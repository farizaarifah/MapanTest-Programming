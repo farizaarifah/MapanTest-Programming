{
  "nbformat": 4,
  "nbformat_minor": 0,
  "metadata": {
    "colab": {
      "name": "mapan-test-programming.ipynb",
      "provenance": [],
      "authorship_tag": "ABX9TyP+YACGsbOLEhU9QA/uFSV0",
      "include_colab_link": true
    },
    "kernelspec": {
      "name": "python3",
      "display_name": "Python 3"
    },
    "language_info": {
      "name": "python"
    }
  },
  "cells": [
    {
      "cell_type": "markdown",
      "metadata": {
        "id": "view-in-github",
        "colab_type": "text"
      },
      "source": [
        "<a href=\"https://colab.research.google.com/github/farizaarifah/MapanTest-Programming/blob/main/mapan_test_programming.ipynb\" target=\"_parent\"><img src=\"https://colab.research.google.com/assets/colab-badge.svg\" alt=\"Open In Colab\"/></a>"
      ]
    },
    {
      "cell_type": "markdown",
      "source": [
        "### Arifah Fariza\n",
        "# Part 3 - Skill Programming Knowledge Test"
      ],
      "metadata": {
        "id": "LM1e-1eRZMfh"
      }
    },
    {
      "cell_type": "code",
      "execution_count": 17,
      "metadata": {
        "colab": {
          "base_uri": "https://localhost:8080/"
        },
        "id": "b7jxWUlRUo2l",
        "outputId": "e824a946-c7b3-4dc9-b909-c952df6774e8"
      },
      "outputs": [
        {
          "output_type": "stream",
          "name": "stdout",
          "text": [
            "5\n",
            "1 2 3 3 3\n",
            "3\n"
          ]
        }
      ],
      "source": [
        "# Nomor 1 - Birthday cake candle\n",
        "\n",
        "# number of elements as input\n",
        "n = int(input())\n",
        " \n",
        "ele = str(input())\n",
        "\n",
        "for i in ele.split()[:n]:\n",
        "    j = int(i)\n",
        "    lst.append(j) # adding the element\n",
        "\n",
        "max_value = max(lst)\n",
        "c = 0\n",
        "for a in lst:\n",
        "  if a == max_value:\n",
        "    c = c+1\n",
        "\n",
        "print(c)\n",
        "lst.clear()"
      ]
    },
    {
      "cell_type": "code",
      "source": [
        "#Nomor 3\n",
        "# Day of the Programmer\n",
        "year = int(input().strip())\n",
        "# your code goes here\n",
        "\n",
        "if year<1918 :\n",
        "    if year%4==0:\n",
        "        print(\"12.09.\"+str(year))\n",
        "    else:\n",
        "        print(\"13.09.\"+str(year))\n",
        "        \n",
        "elif year>1918:\n",
        "    if year%400==0 or (year%4==0 and year%100!=0):\n",
        "        print(\"12.09.\"+str(year))\n",
        "    else:\n",
        "        print(\"13.09.\"+str(year))   \n",
        "else:\n",
        "    print(\"26.09.1918\")"
      ],
      "metadata": {
        "colab": {
          "base_uri": "https://localhost:8080/"
        },
        "id": "3it8zvVVYVP3",
        "outputId": "2b95a866-7874-4de1-c0a4-73e2d86760c4"
      },
      "execution_count": 13,
      "outputs": [
        {
          "output_type": "stream",
          "name": "stdout",
          "text": [
            "2022\n",
            "13.09.2022\n"
          ]
        }
      ]
    }
  ]
}